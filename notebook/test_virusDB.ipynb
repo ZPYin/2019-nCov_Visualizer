{
 "nbformat": 4,
 "nbformat_minor": 2,
 "metadata": {
  "language_info": {
   "name": "python",
   "codemirror_mode": {
    "name": "ipython",
    "version": 3
   },
   "version": "3.6.10-final"
  },
  "orig_nbformat": 2,
  "file_extension": ".py",
  "mimetype": "text/x-python",
  "name": "python",
  "npconvert_exporter": "python",
  "pygments_lexer": "ipython3",
  "version": 3,
  "kernelspec": {
   "name": "python361064bitda1734637e5648a2a98843e7c1d32042",
   "display_name": "Python 3.6.10 64-bit"
  }
 },
 "cells": [
  {
   "cell_type": "code",
   "execution_count": 2,
   "metadata": {},
   "outputs": [],
   "source": [
    "import os\n",
    "import sys"
   ]
  },
  {
   "cell_type": "code",
   "execution_count": 5,
   "metadata": {},
   "outputs": [],
   "source": [
    "projectDir = os.path.dirname(os.path.abspath(os.path.curdir))\n",
    "\n",
    "sys.path.append(os.path.join(projectDir, 'src'))"
   ]
  },
  {
   "cell_type": "code",
   "execution_count": 11,
   "metadata": {},
   "outputs": [
    {
     "name": "stdout",
     "output_type": "stream",
     "text": "2.6.0\nSuccessfully connect to the database:\n/Users/yinzhenping/Documents/Coding/Python/2019-coronavirus-stats/db/2019_nCov_data.db\n"
    }
   ],
   "source": [
    "from virusDB import virusDB\n",
    "\n",
    "dbFile = os.path.join(projectDir, 'db', '2019_nCov_data.db')\n",
    "db = virusDB(dbFile)\n",
    "db.db_connect()\n",
    "cu = db.conn.cursor()"
   ]
  },
  {
   "cell_type": "code",
   "execution_count": 18,
   "metadata": {},
   "outputs": [
    {
     "name": "stdout",
     "output_type": "stream",
     "text": "[(13355, 1580808885960, '武汉', 6384, 0, 306, 313, 34, '中国')]\n"
    }
   ],
   "source": [
    "cu.execute(\"\"\"select * from City_Data where City_Data.updateTime = (select max(updateTime) from City_Data where City_Data.cityName='武汉') and City_Data.cityName = '武汉';\n",
    "\"\"\")\n",
    "data = cu.fetchall()\n",
    "\n",
    "print(data)"
   ]
  },
  {
   "cell_type": "code",
   "execution_count": 45,
   "metadata": {},
   "outputs": [
    {
     "name": "stdout",
     "output_type": "stream",
     "text": "[('仙桃', 188), ('十堰', 291), ('咸宁', 348), ('天门', 117), ('孝感', 1120), ('宜昌', 452), ('恩施州', 123), ('武汉', 6384), ('潜江', 44), ('神农架林区', 10), ('荆州', 613), ('荆门', 400), ('襄阳', 632), ('鄂州', 332), ('随州', 641), ('黄冈', 1422), ('黄石', 405)]\n"
    }
   ],
   "source": [
    "cu.execute(\n",
    "        \"\"\"select cityName, confirmedCount\n",
    "        from City_Data where City_Data.region_id = (select id from Region_Name where Region_Name.name=(?)) and City_Data.updateTime in (select max(updateTime) from City_Data where City_Data.region_id = (select id from Region_Name where Region_Name.name=(?)))\n",
    "        group by City_Data.cityName;\"\"\", ('湖北省','湖北省'))\n",
    "hubeiProvinceData = cu.fetchall()\n",
    "print(hubeiProvinceData)"
   ]
  },
  {
   "cell_type": "code",
   "execution_count": 67,
   "metadata": {},
   "outputs": [
    {
     "name": "stdout",
     "output_type": "stream",
     "text": "[('1580819140282', '上海市', 219), ('1580799598025', '云南省', 119), ('1580784837931', '内蒙古自治区', 35), ('1580804907648', '北京市', 228), ('1580552955389', '台湾', 10), ('1580786427421', '吉林省', 42), ('1580780025466', '四川省', 282), ('1580820453637', '天津市', 67), ('1580782073832', '宁夏回族自治区', 34), ('1580794085653', '安徽省', 480), ('1580817543540', '山东省', 275), ('1580819339567', '山西省', 74), ('1580815475881', '广东省', 813), ('1580795077489', '广西壮族自治区', 139), ('1580819140282', '新疆维吾尔自治区', 29), ('1580817067181', '江苏省', 308), ('1580780483143', '江西省', 476), ('1580806197642', '河北省', 126), ('1580817067181', '河南省', 675), ('1580820519679', '浙江省', 829), ('1580819140282', '海南省', 80), ('1580808885960', '湖北省', 13522), ('1580816273684', '湖南省', 593), ('1580791113018', '澳门', 10), ('1580819140282', '甘肃省', 55), ('1580818345653', '福建省', 194), ('1580803885779', '西藏自治区', 1), ('1580813020141', '贵州省', 58), ('1580806064575', '辽宁省', 77), ('1580819140282', '重庆市', 344), ('1580819273123', '陕西省', 142), ('1580819140282', '青海省', 15), ('1580807002057', '香港', 17), ('1580801857598', '黑龙江省', 155), ('1580709654544', '待明确地区', 13)]\n"
    }
   ],
   "source": [
    "cu.execute(\n",
    "    \"\"\"select updateTime, provinceName, confirmedCount from Region_Data where updateTime in (select max(updateTime) from Region_Data r_d where r_d.country='中国' and r_d.region_id=Region_Data.region_id)\n",
    "    group by Region_Data.region_id;\n",
    "    \"\"\")\n",
    "overallData = cu.fetchall()\n",
    "print(overallData)"
   ]
  }
 ]
}