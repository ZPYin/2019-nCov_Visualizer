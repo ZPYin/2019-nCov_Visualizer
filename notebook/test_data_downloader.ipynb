{
 "nbformat": 4,
 "nbformat_minor": 2,
 "metadata": {
  "language_info": {
   "name": "python",
   "codemirror_mode": {
    "name": "ipython",
    "version": 3
   },
   "version": "3.6.10-final"
  },
  "orig_nbformat": 2,
  "file_extension": ".py",
  "mimetype": "text/x-python",
  "name": "python",
  "npconvert_exporter": "python",
  "pygments_lexer": "ipython3",
  "version": 3,
  "kernelspec": {
   "name": "python361064bitda1734637e5648a2a98843e7c1d32042",
   "display_name": "Python 3.6.10 64-bit"
  }
 },
 "cells": [
  {
   "cell_type": "code",
   "execution_count": 1,
   "metadata": {},
   "outputs": [],
   "source": [
    "import os\n",
    "import sys\n",
    "import requests\n",
    "import json"
   ]
  },
  {
   "cell_type": "code",
   "execution_count": 2,
   "metadata": {},
   "outputs": [
    {
     "name": "stdout",
     "output_type": "stream",
     "text": "2.6.0\nSuccessfully conect to the database:\n/Users/yinzhenping/Desktop/2019-coronavirus-stats/db/2019_nCov_data.db\n"
    }
   ],
   "source": [
    "projectDir = os.path.dirname(os.path.abspath(os.path.curdir))\n",
    "sys.path.append(os.path.join(projectDir, 'src'))\n",
    "\n",
    "from logger import logger\n",
    "from data_downloader import download_regional_data, download_all_regionNames, download_all_regional_data, download_overall_data"
   ]
  },
  {
   "cell_type": "code",
   "execution_count": 3,
   "metadata": {},
   "outputs": [
    {
     "name": "stdout",
     "output_type": "stream",
     "text": "Start to download the overall data.\n  212 OVERALL records were retrieved.\nStart to save the overall data to the database.\nCreate the Overall table successfully.\nFinish successfully!\n"
    }
   ],
   "source": [
    "download_overall_data()"
   ]
  },
  {
   "cell_type": "code",
   "execution_count": 4,
   "metadata": {},
   "outputs": [
    {
     "name": "stdout",
     "output_type": "stream",
     "text": "Start to download the region names.\n   55 region names were retrieved.\nStart to save the region names to the database.\nCreate the Region_Name table successfully.\nFinish successfully!\n"
    }
   ],
   "source": [
    "download_all_regionNames()"
   ]
  },
  {
   "cell_type": "code",
   "execution_count": 5,
   "metadata": {},
   "outputs": [
    {
     "name": "stdout",
     "output_type": "stream",
     "text": "Start to download the region data for 湖北省.\n   75 REGIONAL records were retrieved.\nCreate the Region_Data table successfully.\nCreate the City_Data table successfully.\nFinish successfully!\n"
    }
   ],
   "source": [
    "download_regional_data('湖北省')"
   ]
  },
  {
   "cell_type": "code",
   "execution_count": 6,
   "metadata": {},
   "outputs": [
    {
     "name": "stdout",
     "output_type": "stream",
     "text": "Start to download the region data for 上海市.\n   45 REGIONAL records were retrieved.\nindex region_data_indx already exists\nindex city_data_indx already exists\nFinish successfully!\nStart to download the region data for 云南省.\n   26 REGIONAL records were retrieved.\nindex region_data_indx already exists\nindex city_data_indx already exists\nFinish successfully!\nStart to download the region data for 俄罗斯.\n    1 REGIONAL records were retrieved.\nindex region_data_indx already exists\nindex city_data_indx already exists\nFinish successfully!\nStart to download the region data for 内蒙古自治区.\n   28 REGIONAL records were retrieved.\nindex region_data_indx already exists\nindex city_data_indx already exists\nFinish successfully!\nStart to download the region data for 加拿大.\n    3 REGIONAL records were retrieved.\nindex region_data_indx already exists\nindex city_data_indx already exists\nFinish successfully!\nStart to download the region data for 北京市.\n   63 REGIONAL records were retrieved.\nindex region_data_indx already exists\nindex city_data_indx already exists\nFinish successfully!\nStart to download the region data for 印度.\n    1 REGIONAL records were retrieved.\nindex region_data_indx already exists\nindex city_data_indx already exists\nFinish successfully!\nStart to download the region data for 台湾.\n   12 REGIONAL records were retrieved.\nindex region_data_indx already exists\nindex city_data_indx already exists\nFinish successfully!\nStart to download the region data for 吉林省.\n   17 REGIONAL records were retrieved.\nindex region_data_indx already exists\nindex city_data_indx already exists\nFinish successfully!\nStart to download the region data for 四川省.\n   33 REGIONAL records were retrieved.\nindex region_data_indx already exists\nindex city_data_indx already exists\nFinish successfully!\nStart to download the region data for 天津市.\n   36 REGIONAL records were retrieved.\nindex region_data_indx already exists\nindex city_data_indx already exists\nFinish successfully!\nStart to download the region data for 宁夏回族自治区.\n   19 REGIONAL records were retrieved.\nindex region_data_indx already exists\nindex city_data_indx already exists\nFinish successfully!\nStart to download the region data for 安徽省.\n   31 REGIONAL records were retrieved.\nindex region_data_indx already exists\nindex city_data_indx already exists\nFinish successfully!\nStart to download the region data for 尼泊尔.\n    2 REGIONAL records were retrieved.\nindex region_data_indx already exists\nindex city_data_indx already exists\nFinish successfully!\nStart to download the region data for 山东省.\n   50 REGIONAL records were retrieved.\nindex region_data_indx already exists\nindex city_data_indx already exists\nFinish successfully!\nStart to download the region data for 山西省.\n   20 REGIONAL records were retrieved.\nindex region_data_indx already exists\nindex city_data_indx already exists\nFinish successfully!\nStart to download the region data for 广东省.\n   72 REGIONAL records were retrieved.\nindex region_data_indx already exists\nindex city_data_indx already exists\nFinish successfully!\nStart to download the region data for 广西壮族自治区.\n   31 REGIONAL records were retrieved.\nindex region_data_indx already exists\nindex city_data_indx already exists\nFinish successfully!\nStart to download the region data for 德国.\n    3 REGIONAL records were retrieved.\nindex region_data_indx already exists\nindex city_data_indx already exists\nFinish successfully!\nStart to download the region data for 意大利.\n    1 REGIONAL records were retrieved.\nindex region_data_indx already exists\nindex city_data_indx already exists\nFinish successfully!\nStart to download the region data for 斯里兰卡.\n    1 REGIONAL records were retrieved.\nindex region_data_indx already exists\nindex city_data_indx already exists\nFinish successfully!\nStart to download the region data for 新加坡.\n    6 REGIONAL records were retrieved.\nindex region_data_indx already exists\nindex city_data_indx already exists\nFinish successfully!\nStart to download the region data for 新疆维吾尔自治区.\n   14 REGIONAL records were retrieved.\nindex region_data_indx already exists\nindex city_data_indx already exists\nFinish successfully!\nStart to download the region data for 日本.\n    8 REGIONAL records were retrieved.\nindex region_data_indx already exists\nindex city_data_indx already exists\nFinish successfully!\nStart to download the region data for 柬埔寨.\n    2 REGIONAL records were retrieved.\nindex region_data_indx already exists\nindex city_data_indx already exists\nFinish successfully!\nStart to download the region data for 江苏省.\n   28 REGIONAL records were retrieved.\nindex region_data_indx already exists\nindex city_data_indx already exists\nFinish successfully!\nStart to download the region data for 江西省.\n   35 REGIONAL records were retrieved.\nindex region_data_indx already exists\nindex city_data_indx already exists\nFinish successfully!\nStart to download the region data for 河北省.\n   18 REGIONAL records were retrieved.\nindex region_data_indx already exists\nindex city_data_indx already exists\nFinish successfully!\nStart to download the region data for 河南省.\n   39 REGIONAL records were retrieved.\nindex region_data_indx already exists\nindex city_data_indx already exists\nFinish successfully!\nStart to download the region data for 法国.\n    4 REGIONAL records were retrieved.\nindex region_data_indx already exists\nindex city_data_indx already exists\nFinish successfully!\nStart to download the region data for 泰国.\n    5 REGIONAL records were retrieved.\nindex region_data_indx already exists\nindex city_data_indx already exists\nFinish successfully!\nStart to download the region data for 浙江省.\n   33 REGIONAL records were retrieved.\nindex region_data_indx already exists\nindex city_data_indx already exists\nFinish successfully!\nStart to download the region data for 海南省.\n   31 REGIONAL records were retrieved.\nindex region_data_indx already exists\nindex city_data_indx already exists\nFinish successfully!\nStart to download the region data for 湖北省.\n   75 REGIONAL records were retrieved.\nindex region_data_indx already exists\nindex city_data_indx already exists\nFinish successfully!\nStart to download the region data for 湖南省.\n   33 REGIONAL records were retrieved.\nindex region_data_indx already exists\nindex city_data_indx already exists\nFinish successfully!\nStart to download the region data for 澳大利亚.\n    6 REGIONAL records were retrieved.\nindex region_data_indx already exists\nindex city_data_indx already exists\nFinish successfully!\nStart to download the region data for 澳门.\n    9 REGIONAL records were retrieved.\nindex region_data_indx already exists\nindex city_data_indx already exists\nFinish successfully!\nStart to download the region data for 甘肃省.\n   19 REGIONAL records were retrieved.\nindex region_data_indx already exists\nindex city_data_indx already exists\nFinish successfully!\nStart to download the region data for 福建省.\n   34 REGIONAL records were retrieved.\nindex region_data_indx already exists\nindex city_data_indx already exists\nFinish successfully!\nStart to download the region data for 美国.\n    3 REGIONAL records were retrieved.\nindex region_data_indx already exists\nindex city_data_indx already exists\nFinish successfully!\nStart to download the region data for 芬兰.\n    1 REGIONAL records were retrieved.\nindex region_data_indx already exists\nindex city_data_indx already exists\nFinish successfully!\nStart to download the region data for 英国.\n    1 REGIONAL records were retrieved.\nindex region_data_indx already exists\nindex city_data_indx already exists\nFinish successfully!\nStart to download the region data for 蒙古.\n    1 REGIONAL records were retrieved.\nindex region_data_indx already exists\nindex city_data_indx already exists\nFinish successfully!\nStart to download the region data for 西藏自治区.\n    3 REGIONAL records were retrieved.\nindex region_data_indx already exists\nindex city_data_indx already exists\nFinish successfully!\nStart to download the region data for 贵州省.\n   18 REGIONAL records were retrieved.\nindex region_data_indx already exists\nindex city_data_indx already exists\nFinish successfully!\nStart to download the region data for 越南.\n    2 REGIONAL records were retrieved.\nindex region_data_indx already exists\nindex city_data_indx already exists\nFinish successfully!\nStart to download the region data for 辽宁省.\n   44 REGIONAL records were retrieved.\nindex region_data_indx already exists\nindex city_data_indx already exists\nFinish successfully!\nStart to download the region data for 重庆市.\n   47 REGIONAL records were retrieved.\nindex region_data_indx already exists\nindex city_data_indx already exists\nFinish successfully!\nStart to download the region data for 阿联酋.\n    2 REGIONAL records were retrieved.\nindex region_data_indx already exists\nindex city_data_indx already exists\nFinish successfully!\nStart to download the region data for 陕西省.\n   26 REGIONAL records were retrieved.\nindex region_data_indx already exists\nindex city_data_indx already exists\nFinish successfully!\nStart to download the region data for 青海省.\n    8 REGIONAL records were retrieved.\nindex region_data_indx already exists\nindex city_data_indx already exists\nFinish successfully!\nStart to download the region data for 韩国.\n    3 REGIONAL records were retrieved.\nindex region_data_indx already exists\nindex city_data_indx already exists\nFinish successfully!\nStart to download the region data for 香港.\n   12 REGIONAL records were retrieved.\nindex region_data_indx already exists\nindex city_data_indx already exists\nFinish successfully!\nStart to download the region data for 马来西亚.\n    4 REGIONAL records were retrieved.\nindex region_data_indx already exists\nindex city_data_indx already exists\nFinish successfully!\nStart to download the region data for 黑龙江省.\n   30 REGIONAL records were retrieved.\nindex region_data_indx already exists\nindex city_data_indx already exists\nFinish successfully!\n"
    }
   ],
   "source": [
    "download_all_regional_data()"
   ]
  }
 ]
}