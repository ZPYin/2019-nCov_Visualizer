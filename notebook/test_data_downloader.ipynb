{
 "nbformat": 4,
 "nbformat_minor": 2,
 "metadata": {
  "language_info": {
   "name": "python",
   "codemirror_mode": {
    "name": "ipython",
    "version": 3
   },
   "version": "3.6.10-final"
  },
  "orig_nbformat": 2,
  "file_extension": ".py",
  "mimetype": "text/x-python",
  "name": "python",
  "npconvert_exporter": "python",
  "pygments_lexer": "ipython3",
  "version": 3,
  "kernelspec": {
   "name": "python361064bitda1734637e5648a2a98843e7c1d32042",
   "display_name": "Python 3.6.10 64-bit"
  }
 },
 "cells": [
  {
   "cell_type": "code",
   "execution_count": 22,
   "metadata": {},
   "outputs": [],
   "source": [
    "import os\n",
    "import sys\n",
    "import requests\n",
    "import json\n",
    "import sqlite3 as db\n",
    "import datetime as dt\n",
    "import pandas as pd"
   ]
  },
  {
   "cell_type": "code",
   "execution_count": 23,
   "metadata": {},
   "outputs": [],
   "source": [
    "projectDir = os.path.dirname(os.path.abspath(os.path.curdir))\n",
    "sys.path.append(os.path.join(projectDir, 'src'))\n",
    "dbFile = os.path.join(projectDir, 'db', '2019_nCov_data.db')\n",
    "conn = db.connect(dbFile)\n",
    "\n",
    "from logger import logger\n",
    "from data_downloader import download_regional_data, download_all_regionNames, download_all_regional_data, download_overall_data"
   ]
  },
  {
   "cell_type": "code",
   "execution_count": 24,
   "metadata": {},
   "outputs": [
    {
     "name": "stdout",
     "output_type": "stream",
     "text": "2.6.0\nStart to download the overall data.\n  661 OVERALL records were retrieved.\nStart to save the overall data to the database.\nFinish successfully!\nno such table: City_Data\n"
    }
   ],
   "source": [
    "data = download_overall_data()"
   ]
  },
  {
   "cell_type": "code",
   "execution_count": 25,
   "metadata": {},
   "outputs": [
    {
     "name": "stdout",
     "output_type": "stream",
     "text": "2.6.0\nStart to download the region names.\n   59 region names were retrieved.\nStart to save the region names to the database.\nno such table: City_Data\nFinish successfully!\n"
    }
   ],
   "source": [
    "names = download_all_regionNames()"
   ]
  },
  {
   "cell_type": "code",
   "execution_count": 26,
   "metadata": {},
   "outputs": [
    {
     "name": "stdout",
     "output_type": "stream",
     "text": "2.6.0\nStart to download the region data for 湖北省.\n  186 REGIONAL records were retrieved.\nFinish successfully!\n"
    }
   ],
   "source": [
    "data = download_regional_data('湖北省')"
   ]
  },
  {
   "cell_type": "code",
   "execution_count": null,
   "metadata": {},
   "outputs": [],
   "source": [
    "download_all_regional_data()"
   ]
  }
 ]
}