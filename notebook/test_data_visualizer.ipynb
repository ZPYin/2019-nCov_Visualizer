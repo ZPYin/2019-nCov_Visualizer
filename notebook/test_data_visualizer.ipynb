{
 "nbformat": 4,
 "nbformat_minor": 2,
 "metadata": {
  "language_info": {
   "name": "python",
   "codemirror_mode": {
    "name": "ipython",
    "version": 3
   },
   "version": "3.6.10-final"
  },
  "orig_nbformat": 2,
  "file_extension": ".py",
  "mimetype": "text/x-python",
  "name": "python",
  "npconvert_exporter": "python",
  "pygments_lexer": "ipython3",
  "version": 3,
  "kernelspec": {
   "name": "python361064bitda1734637e5648a2a98843e7c1d32042",
   "display_name": "Python 3.6.10 64-bit"
  }
 },
 "cells": [
  {
   "cell_type": "code",
   "execution_count": null,
   "metadata": {},
   "outputs": [],
   "source": [
    "import os\n",
    "import sys"
   ]
  },
  {
   "cell_type": "code",
   "execution_count": null,
   "metadata": {},
   "outputs": [],
   "source": [
    "projectDir = os.path.dirname(os.path.abspath(os.path.curdir))\n",
    "sys.path.append(os.path.join(projectDir, 'src'))\n",
    "\n",
    "from data_visualizer import display_recent_overall, display_recent_overall_distribution, display_recent_provincial_distribution"
   ]
  },
  {
   "cell_type": "code",
   "execution_count": null,
   "metadata": {},
   "outputs": [],
   "source": [
    "pic_file_1 = os.path.join(projectDir, 'img', 'lineplot_overall.png')\n",
    "display_recent_overall(pic_file_1)"
   ]
  },
  {
   "cell_type": "code",
   "execution_count": null,
   "metadata": {},
   "outputs": [],
   "source": [
    "pic_file_2 = os.path.join(projectDir, 'img', 'overall_distribution.png')\n",
    "display_recent_overall_distribution(pic_file_2)"
   ]
  },
  {
   "cell_type": "code",
   "execution_count": null,
   "metadata": {},
   "outputs": [],
   "source": [
    "pic_file_3 = os.path.join(projectDir, 'img', 'hubei_distribution.png')\n",
    "display_recent_provincial_distribution('湖北省', pic_file_3)"
   ]
  }
 ]
}